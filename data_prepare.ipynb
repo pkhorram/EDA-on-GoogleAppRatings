{
 "cells": [
  {
   "cell_type": "code",
   "execution_count": 1,
   "metadata": {},
   "outputs": [],
   "source": [
    "import pandas as pd\n",
    "import numpy as np\n",
    "import seaborn as sn\n",
    "import matplotlib.pyplot as plt"
   ]
  },
  {
   "cell_type": "code",
   "execution_count": 2,
   "metadata": {},
   "outputs": [
    {
     "data": {
      "text/html": [
       "<div>\n",
       "<style scoped>\n",
       "    .dataframe tbody tr th:only-of-type {\n",
       "        vertical-align: middle;\n",
       "    }\n",
       "\n",
       "    .dataframe tbody tr th {\n",
       "        vertical-align: top;\n",
       "    }\n",
       "\n",
       "    .dataframe thead th {\n",
       "        text-align: right;\n",
       "    }\n",
       "</style>\n",
       "<table border=\"1\" class=\"dataframe\">\n",
       "  <thead>\n",
       "    <tr style=\"text-align: right;\">\n",
       "      <th></th>\n",
       "      <th>App</th>\n",
       "      <th>Category</th>\n",
       "      <th>Rating</th>\n",
       "      <th>Reviews</th>\n",
       "      <th>Size</th>\n",
       "      <th>Installs</th>\n",
       "      <th>Type</th>\n",
       "      <th>Price</th>\n",
       "      <th>Content Rating</th>\n",
       "      <th>Genres</th>\n",
       "      <th>Last Updated</th>\n",
       "      <th>Current Ver</th>\n",
       "      <th>Android Ver</th>\n",
       "    </tr>\n",
       "  </thead>\n",
       "  <tbody>\n",
       "    <tr>\n",
       "      <th>0</th>\n",
       "      <td>Photo Editor &amp; Candy Camera &amp; Grid &amp; ScrapBook</td>\n",
       "      <td>ART_AND_DESIGN</td>\n",
       "      <td>4.1</td>\n",
       "      <td>159</td>\n",
       "      <td>19M</td>\n",
       "      <td>10,000+</td>\n",
       "      <td>Free</td>\n",
       "      <td>0</td>\n",
       "      <td>Everyone</td>\n",
       "      <td>Art &amp; Design</td>\n",
       "      <td>January 7, 2018</td>\n",
       "      <td>1.0.0</td>\n",
       "      <td>4.0.3 and up</td>\n",
       "    </tr>\n",
       "    <tr>\n",
       "      <th>1</th>\n",
       "      <td>Coloring book moana</td>\n",
       "      <td>ART_AND_DESIGN</td>\n",
       "      <td>3.9</td>\n",
       "      <td>967</td>\n",
       "      <td>14M</td>\n",
       "      <td>500,000+</td>\n",
       "      <td>Free</td>\n",
       "      <td>0</td>\n",
       "      <td>Everyone</td>\n",
       "      <td>Art &amp; Design;Pretend Play</td>\n",
       "      <td>January 15, 2018</td>\n",
       "      <td>2.0.0</td>\n",
       "      <td>4.0.3 and up</td>\n",
       "    </tr>\n",
       "    <tr>\n",
       "      <th>2</th>\n",
       "      <td>U Launcher Lite – FREE Live Cool Themes, Hide ...</td>\n",
       "      <td>ART_AND_DESIGN</td>\n",
       "      <td>4.7</td>\n",
       "      <td>87510</td>\n",
       "      <td>8.7M</td>\n",
       "      <td>5,000,000+</td>\n",
       "      <td>Free</td>\n",
       "      <td>0</td>\n",
       "      <td>Everyone</td>\n",
       "      <td>Art &amp; Design</td>\n",
       "      <td>August 1, 2018</td>\n",
       "      <td>1.2.4</td>\n",
       "      <td>4.0.3 and up</td>\n",
       "    </tr>\n",
       "    <tr>\n",
       "      <th>3</th>\n",
       "      <td>Sketch - Draw &amp; Paint</td>\n",
       "      <td>ART_AND_DESIGN</td>\n",
       "      <td>4.5</td>\n",
       "      <td>215644</td>\n",
       "      <td>25M</td>\n",
       "      <td>50,000,000+</td>\n",
       "      <td>Free</td>\n",
       "      <td>0</td>\n",
       "      <td>Teen</td>\n",
       "      <td>Art &amp; Design</td>\n",
       "      <td>June 8, 2018</td>\n",
       "      <td>Varies with device</td>\n",
       "      <td>4.2 and up</td>\n",
       "    </tr>\n",
       "    <tr>\n",
       "      <th>4</th>\n",
       "      <td>Pixel Draw - Number Art Coloring Book</td>\n",
       "      <td>ART_AND_DESIGN</td>\n",
       "      <td>4.3</td>\n",
       "      <td>967</td>\n",
       "      <td>2.8M</td>\n",
       "      <td>100,000+</td>\n",
       "      <td>Free</td>\n",
       "      <td>0</td>\n",
       "      <td>Everyone</td>\n",
       "      <td>Art &amp; Design;Creativity</td>\n",
       "      <td>June 20, 2018</td>\n",
       "      <td>1.1</td>\n",
       "      <td>4.4 and up</td>\n",
       "    </tr>\n",
       "  </tbody>\n",
       "</table>\n",
       "</div>"
      ],
      "text/plain": [
       "                                                 App        Category  Rating  \\\n",
       "0     Photo Editor & Candy Camera & Grid & ScrapBook  ART_AND_DESIGN     4.1   \n",
       "1                                Coloring book moana  ART_AND_DESIGN     3.9   \n",
       "2  U Launcher Lite – FREE Live Cool Themes, Hide ...  ART_AND_DESIGN     4.7   \n",
       "3                              Sketch - Draw & Paint  ART_AND_DESIGN     4.5   \n",
       "4              Pixel Draw - Number Art Coloring Book  ART_AND_DESIGN     4.3   \n",
       "\n",
       "  Reviews  Size     Installs  Type Price Content Rating  \\\n",
       "0     159   19M      10,000+  Free     0       Everyone   \n",
       "1     967   14M     500,000+  Free     0       Everyone   \n",
       "2   87510  8.7M   5,000,000+  Free     0       Everyone   \n",
       "3  215644   25M  50,000,000+  Free     0           Teen   \n",
       "4     967  2.8M     100,000+  Free     0       Everyone   \n",
       "\n",
       "                      Genres      Last Updated         Current Ver  \\\n",
       "0               Art & Design   January 7, 2018               1.0.0   \n",
       "1  Art & Design;Pretend Play  January 15, 2018               2.0.0   \n",
       "2               Art & Design    August 1, 2018               1.2.4   \n",
       "3               Art & Design      June 8, 2018  Varies with device   \n",
       "4    Art & Design;Creativity     June 20, 2018                 1.1   \n",
       "\n",
       "    Android Ver  \n",
       "0  4.0.3 and up  \n",
       "1  4.0.3 and up  \n",
       "2  4.0.3 and up  \n",
       "3    4.2 and up  \n",
       "4    4.4 and up  "
      ]
     },
     "execution_count": 2,
     "metadata": {},
     "output_type": "execute_result"
    }
   ],
   "source": [
    "df = pd.read_csv('./googleplaystore.csv')\n",
    "df.head()"
   ]
  },
  {
   "cell_type": "code",
   "execution_count": 3,
   "metadata": {},
   "outputs": [
    {
     "name": "stdout",
     "output_type": "stream",
     "text": [
      "App ------- <class 'str'> ------- Photo Editor & Candy Camera & Grid & ScrapBook\n",
      "Category ------- <class 'str'> ------- ART_AND_DESIGN\n",
      "Rating ------- <class 'numpy.float64'> ------- 4.1\n",
      "Reviews ------- <class 'str'> ------- 159\n",
      "Size ------- <class 'str'> ------- 19M\n",
      "Installs ------- <class 'str'> ------- 10,000+\n",
      "Type ------- <class 'str'> ------- Free\n",
      "Price ------- <class 'str'> ------- 0\n",
      "Content Rating ------- <class 'str'> ------- Everyone\n",
      "Genres ------- <class 'str'> ------- Art & Design\n",
      "Last Updated ------- <class 'str'> ------- January 7, 2018\n",
      "Current Ver ------- <class 'str'> ------- 1.0.0\n",
      "Android Ver ------- <class 'str'> ------- 4.0.3 and up\n"
     ]
    }
   ],
   "source": [
    "for column in df.columns:\n",
    "    print( column, '-------', type(df[column][0]), '-------', df[column][0])"
   ]
  },
  {
   "cell_type": "code",
   "execution_count": 4,
   "metadata": {},
   "outputs": [
    {
     "name": "stdout",
     "output_type": "stream",
     "text": [
      "App ----- 1 ------> [<class 'str'>]\n",
      "Category ----- 1 ------> [<class 'str'>]\n",
      "Rating ----- 1 ------> [<class 'float'>]\n",
      "Reviews ----- 1 ------> [<class 'str'>]\n",
      "Size ----- 1 ------> [<class 'str'>]\n",
      "Installs ----- 1 ------> [<class 'str'>]\n",
      "Type ----- 2 ------> [<class 'str'>, <class 'float'>]\n",
      "Price ----- 1 ------> [<class 'str'>]\n",
      "Content Rating ----- 2 ------> [<class 'str'>, <class 'float'>]\n",
      "Genres ----- 1 ------> [<class 'str'>]\n",
      "Last Updated ----- 1 ------> [<class 'str'>]\n",
      "Current Ver ----- 2 ------> [<class 'str'>, <class 'float'>]\n",
      "Android Ver ----- 2 ------> [<class 'str'>, <class 'float'>]\n"
     ]
    }
   ],
   "source": [
    "for col in df.columns:\n",
    "    a = df[col]\n",
    "    s = []\n",
    "    for i in a:\n",
    "        if type(i) not in s:\n",
    "            s.append(type(i))\n",
    "    print(col, '-----', len(s), '------>', s)"
   ]
  },
  {
   "cell_type": "code",
   "execution_count": 5,
   "metadata": {},
   "outputs": [],
   "source": [
    "df['Type'] = df['Type'].astype(str)\n",
    "df['Content Rating'] = df['Content Rating'].astype(str)\n",
    "df['Current Ver'] = df['Current Ver'].astype(str)\n",
    "df['Android Ver'] = df['Android Ver'].astype(str)"
   ]
  },
  {
   "cell_type": "code",
   "execution_count": 6,
   "metadata": {},
   "outputs": [
    {
     "name": "stdout",
     "output_type": "stream",
     "text": [
      "number of unique values in column App: 9660\n",
      "number of unique values in column Category: 34\n",
      "number of unique values in column Rating: 1514\n",
      "number of unique values in column Reviews: 6002\n",
      "number of unique values in column Size: 462\n",
      "number of unique values in column Installs: 22\n",
      "number of unique values in column Type: 4\n",
      "number of unique values in column Price: 93\n",
      "number of unique values in column Content Rating: 7\n",
      "number of unique values in column Genres: 120\n",
      "number of unique values in column Last Updated: 1378\n",
      "number of unique values in column Current Ver: 2833\n",
      "number of unique values in column Android Ver: 34\n"
     ]
    }
   ],
   "source": [
    "for column in df.columns:\n",
    "    print (\"number of unique values in column {}:\".format(column), len(np.unique(np.array(df[column]))))"
   ]
  },
  {
   "cell_type": "code",
   "execution_count": 7,
   "metadata": {},
   "outputs": [
    {
     "name": "stdout",
     "output_type": "stream",
     "text": [
      "The length of this dataframe is: 10841\n",
      "The length of this reduced dataframe is: 10358\n"
     ]
    }
   ],
   "source": [
    "print('The length of this dataframe is:', len(df))\n",
    "df = pd.DataFrame.drop_duplicates(df)\n",
    "print('The length of this reduced dataframe is:', len(df))"
   ]
  },
  {
   "cell_type": "code",
   "execution_count": 9,
   "metadata": {},
   "outputs": [],
   "source": [
    "clean_df = pd.DataFrame()\n",
    "\n",
    "clean_df['App'] = df['App']\n",
    "clean_df['Category'] = df['Category']\n",
    "clean_df['Size'] = df['Size']\n",
    "clean_df['Type'] = df['Type'] # need to delete the NAN and Free the 0 parts\n",
    "clean_df['Price'] = df['Price']\n",
    "clean_df['Content Rating'] = df['Content Rating']\n",
    "clean_df['Genres'] = df['Genres']\n",
    "clean_df['Rating'] = df['Rating']"
   ]
  },
  {
   "cell_type": "code",
   "execution_count": 10,
   "metadata": {},
   "outputs": [
    {
     "data": {
      "text/html": [
       "<div>\n",
       "<style scoped>\n",
       "    .dataframe tbody tr th:only-of-type {\n",
       "        vertical-align: middle;\n",
       "    }\n",
       "\n",
       "    .dataframe tbody tr th {\n",
       "        vertical-align: top;\n",
       "    }\n",
       "\n",
       "    .dataframe thead th {\n",
       "        text-align: right;\n",
       "    }\n",
       "</style>\n",
       "<table border=\"1\" class=\"dataframe\">\n",
       "  <thead>\n",
       "    <tr style=\"text-align: right;\">\n",
       "      <th></th>\n",
       "      <th>App</th>\n",
       "      <th>Category</th>\n",
       "      <th>Size</th>\n",
       "      <th>Type</th>\n",
       "      <th>Price</th>\n",
       "      <th>Content Rating</th>\n",
       "      <th>Genres</th>\n",
       "      <th>Rating</th>\n",
       "    </tr>\n",
       "  </thead>\n",
       "  <tbody>\n",
       "    <tr>\n",
       "      <th>0</th>\n",
       "      <td>Photo Editor &amp; Candy Camera &amp; Grid &amp; ScrapBook</td>\n",
       "      <td>ART_AND_DESIGN</td>\n",
       "      <td>19M</td>\n",
       "      <td>Free</td>\n",
       "      <td>0</td>\n",
       "      <td>Everyone</td>\n",
       "      <td>Art &amp; Design</td>\n",
       "      <td>4.1</td>\n",
       "    </tr>\n",
       "    <tr>\n",
       "      <th>1</th>\n",
       "      <td>Coloring book moana</td>\n",
       "      <td>ART_AND_DESIGN</td>\n",
       "      <td>14M</td>\n",
       "      <td>Free</td>\n",
       "      <td>0</td>\n",
       "      <td>Everyone</td>\n",
       "      <td>Art &amp; Design;Pretend Play</td>\n",
       "      <td>3.9</td>\n",
       "    </tr>\n",
       "    <tr>\n",
       "      <th>2</th>\n",
       "      <td>U Launcher Lite – FREE Live Cool Themes, Hide ...</td>\n",
       "      <td>ART_AND_DESIGN</td>\n",
       "      <td>8.7M</td>\n",
       "      <td>Free</td>\n",
       "      <td>0</td>\n",
       "      <td>Everyone</td>\n",
       "      <td>Art &amp; Design</td>\n",
       "      <td>4.7</td>\n",
       "    </tr>\n",
       "    <tr>\n",
       "      <th>3</th>\n",
       "      <td>Sketch - Draw &amp; Paint</td>\n",
       "      <td>ART_AND_DESIGN</td>\n",
       "      <td>25M</td>\n",
       "      <td>Free</td>\n",
       "      <td>0</td>\n",
       "      <td>Teen</td>\n",
       "      <td>Art &amp; Design</td>\n",
       "      <td>4.5</td>\n",
       "    </tr>\n",
       "    <tr>\n",
       "      <th>4</th>\n",
       "      <td>Pixel Draw - Number Art Coloring Book</td>\n",
       "      <td>ART_AND_DESIGN</td>\n",
       "      <td>2.8M</td>\n",
       "      <td>Free</td>\n",
       "      <td>0</td>\n",
       "      <td>Everyone</td>\n",
       "      <td>Art &amp; Design;Creativity</td>\n",
       "      <td>4.3</td>\n",
       "    </tr>\n",
       "  </tbody>\n",
       "</table>\n",
       "</div>"
      ],
      "text/plain": [
       "                                                 App        Category  Size  \\\n",
       "0     Photo Editor & Candy Camera & Grid & ScrapBook  ART_AND_DESIGN   19M   \n",
       "1                                Coloring book moana  ART_AND_DESIGN   14M   \n",
       "2  U Launcher Lite – FREE Live Cool Themes, Hide ...  ART_AND_DESIGN  8.7M   \n",
       "3                              Sketch - Draw & Paint  ART_AND_DESIGN   25M   \n",
       "4              Pixel Draw - Number Art Coloring Book  ART_AND_DESIGN  2.8M   \n",
       "\n",
       "   Type Price Content Rating                     Genres  Rating  \n",
       "0  Free     0       Everyone               Art & Design     4.1  \n",
       "1  Free     0       Everyone  Art & Design;Pretend Play     3.9  \n",
       "2  Free     0       Everyone               Art & Design     4.7  \n",
       "3  Free     0           Teen               Art & Design     4.5  \n",
       "4  Free     0       Everyone    Art & Design;Creativity     4.3  "
      ]
     },
     "execution_count": 10,
     "metadata": {},
     "output_type": "execute_result"
    }
   ],
   "source": [
    "clean_df.head()"
   ]
  },
  {
   "cell_type": "code",
   "execution_count": 12,
   "metadata": {},
   "outputs": [],
   "source": [
    "def categorize(column):\n",
    "    dict = {}\n",
    "    key = 1\n",
    "    for i in np.unique(column):\n",
    "        if i not in dict:\n",
    "            dict[key] = i\n",
    "            key+=1\n",
    "    return dict"
   ]
  },
  {
   "cell_type": "code",
   "execution_count": 13,
   "metadata": {},
   "outputs": [],
   "source": [
    "category_dict = categorize(clean_df['Category'])\n",
    "Size_dict = categorize(clean_df['Size'])\n",
    "Type_dict = categorize(clean_df['Type'])\n",
    "Price_dict = categorize(clean_df['Price'])\n",
    "Content_Rating_dict = categorize(clean_df['Content Rating'])\n",
    "Genres_dict = categorize(clean_df['Genres'])"
   ]
  },
  {
   "cell_type": "code",
   "execution_count": 14,
   "metadata": {},
   "outputs": [
    {
     "data": {
      "text/plain": [
       "{1: '1.9',\n",
       " 2: 'ART_AND_DESIGN',\n",
       " 3: 'AUTO_AND_VEHICLES',\n",
       " 4: 'BEAUTY',\n",
       " 5: 'BOOKS_AND_REFERENCE',\n",
       " 6: 'BUSINESS',\n",
       " 7: 'COMICS',\n",
       " 8: 'COMMUNICATION',\n",
       " 9: 'DATING',\n",
       " 10: 'EDUCATION',\n",
       " 11: 'ENTERTAINMENT',\n",
       " 12: 'EVENTS',\n",
       " 13: 'FAMILY',\n",
       " 14: 'FINANCE',\n",
       " 15: 'FOOD_AND_DRINK',\n",
       " 16: 'GAME',\n",
       " 17: 'HEALTH_AND_FITNESS',\n",
       " 18: 'HOUSE_AND_HOME',\n",
       " 19: 'LIBRARIES_AND_DEMO',\n",
       " 20: 'LIFESTYLE',\n",
       " 21: 'MAPS_AND_NAVIGATION',\n",
       " 22: 'MEDICAL',\n",
       " 23: 'NEWS_AND_MAGAZINES',\n",
       " 24: 'PARENTING',\n",
       " 25: 'PERSONALIZATION',\n",
       " 26: 'PHOTOGRAPHY',\n",
       " 27: 'PRODUCTIVITY',\n",
       " 28: 'SHOPPING',\n",
       " 29: 'SOCIAL',\n",
       " 30: 'SPORTS',\n",
       " 31: 'TOOLS',\n",
       " 32: 'TRAVEL_AND_LOCAL',\n",
       " 33: 'VIDEO_PLAYERS',\n",
       " 34: 'WEATHER'}"
      ]
     },
     "execution_count": 14,
     "metadata": {},
     "output_type": "execute_result"
    }
   ],
   "source": [
    "category_dict"
   ]
  },
  {
   "cell_type": "code",
   "execution_count": null,
   "metadata": {},
   "outputs": [],
   "source": []
  }
 ],
 "metadata": {
  "kernelspec": {
   "display_name": "Python 3",
   "language": "python",
   "name": "python3"
  },
  "language_info": {
   "codemirror_mode": {
    "name": "ipython",
    "version": 3
   },
   "file_extension": ".py",
   "mimetype": "text/x-python",
   "name": "python",
   "nbconvert_exporter": "python",
   "pygments_lexer": "ipython3",
   "version": "3.7.6"
  }
 },
 "nbformat": 4,
 "nbformat_minor": 4
}

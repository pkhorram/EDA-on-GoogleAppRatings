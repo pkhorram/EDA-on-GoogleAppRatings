{
 "cells": [
  {
   "cell_type": "code",
   "execution_count": 1,
   "metadata": {},
   "outputs": [],
   "source": [
    "import pandas as pd\n",
    "import numpy as np\n",
    "import seaborn as sn\n",
    "import matplotlib.pyplot as plt"
   ]
  },
  {
   "cell_type": "code",
   "execution_count": 2,
   "metadata": {},
   "outputs": [
    {
     "data": {
      "text/html": [
       "<div>\n",
       "<style scoped>\n",
       "    .dataframe tbody tr th:only-of-type {\n",
       "        vertical-align: middle;\n",
       "    }\n",
       "\n",
       "    .dataframe tbody tr th {\n",
       "        vertical-align: top;\n",
       "    }\n",
       "\n",
       "    .dataframe thead th {\n",
       "        text-align: right;\n",
       "    }\n",
       "</style>\n",
       "<table border=\"1\" class=\"dataframe\">\n",
       "  <thead>\n",
       "    <tr style=\"text-align: right;\">\n",
       "      <th></th>\n",
       "      <th>App</th>\n",
       "      <th>Category</th>\n",
       "      <th>Rating</th>\n",
       "      <th>Reviews</th>\n",
       "      <th>Size</th>\n",
       "      <th>Installs</th>\n",
       "      <th>Type</th>\n",
       "      <th>Price</th>\n",
       "      <th>Content Rating</th>\n",
       "      <th>Genres</th>\n",
       "      <th>Last Updated</th>\n",
       "      <th>Current Ver</th>\n",
       "      <th>Android Ver</th>\n",
       "    </tr>\n",
       "  </thead>\n",
       "  <tbody>\n",
       "    <tr>\n",
       "      <th>0</th>\n",
       "      <td>Photo Editor &amp; Candy Camera &amp; Grid &amp; ScrapBook</td>\n",
       "      <td>ART_AND_DESIGN</td>\n",
       "      <td>4.1</td>\n",
       "      <td>159</td>\n",
       "      <td>19M</td>\n",
       "      <td>10,000+</td>\n",
       "      <td>Free</td>\n",
       "      <td>0</td>\n",
       "      <td>Everyone</td>\n",
       "      <td>Art &amp; Design</td>\n",
       "      <td>January 7, 2018</td>\n",
       "      <td>1.0.0</td>\n",
       "      <td>4.0.3 and up</td>\n",
       "    </tr>\n",
       "    <tr>\n",
       "      <th>1</th>\n",
       "      <td>Coloring book moana</td>\n",
       "      <td>ART_AND_DESIGN</td>\n",
       "      <td>3.9</td>\n",
       "      <td>967</td>\n",
       "      <td>14M</td>\n",
       "      <td>500,000+</td>\n",
       "      <td>Free</td>\n",
       "      <td>0</td>\n",
       "      <td>Everyone</td>\n",
       "      <td>Art &amp; Design;Pretend Play</td>\n",
       "      <td>January 15, 2018</td>\n",
       "      <td>2.0.0</td>\n",
       "      <td>4.0.3 and up</td>\n",
       "    </tr>\n",
       "    <tr>\n",
       "      <th>2</th>\n",
       "      <td>U Launcher Lite – FREE Live Cool Themes, Hide ...</td>\n",
       "      <td>ART_AND_DESIGN</td>\n",
       "      <td>4.7</td>\n",
       "      <td>87510</td>\n",
       "      <td>8.7M</td>\n",
       "      <td>5,000,000+</td>\n",
       "      <td>Free</td>\n",
       "      <td>0</td>\n",
       "      <td>Everyone</td>\n",
       "      <td>Art &amp; Design</td>\n",
       "      <td>August 1, 2018</td>\n",
       "      <td>1.2.4</td>\n",
       "      <td>4.0.3 and up</td>\n",
       "    </tr>\n",
       "    <tr>\n",
       "      <th>3</th>\n",
       "      <td>Sketch - Draw &amp; Paint</td>\n",
       "      <td>ART_AND_DESIGN</td>\n",
       "      <td>4.5</td>\n",
       "      <td>215644</td>\n",
       "      <td>25M</td>\n",
       "      <td>50,000,000+</td>\n",
       "      <td>Free</td>\n",
       "      <td>0</td>\n",
       "      <td>Teen</td>\n",
       "      <td>Art &amp; Design</td>\n",
       "      <td>June 8, 2018</td>\n",
       "      <td>Varies with device</td>\n",
       "      <td>4.2 and up</td>\n",
       "    </tr>\n",
       "    <tr>\n",
       "      <th>4</th>\n",
       "      <td>Pixel Draw - Number Art Coloring Book</td>\n",
       "      <td>ART_AND_DESIGN</td>\n",
       "      <td>4.3</td>\n",
       "      <td>967</td>\n",
       "      <td>2.8M</td>\n",
       "      <td>100,000+</td>\n",
       "      <td>Free</td>\n",
       "      <td>0</td>\n",
       "      <td>Everyone</td>\n",
       "      <td>Art &amp; Design;Creativity</td>\n",
       "      <td>June 20, 2018</td>\n",
       "      <td>1.1</td>\n",
       "      <td>4.4 and up</td>\n",
       "    </tr>\n",
       "  </tbody>\n",
       "</table>\n",
       "</div>"
      ],
      "text/plain": [
       "                                                 App        Category  Rating  \\\n",
       "0     Photo Editor & Candy Camera & Grid & ScrapBook  ART_AND_DESIGN     4.1   \n",
       "1                                Coloring book moana  ART_AND_DESIGN     3.9   \n",
       "2  U Launcher Lite – FREE Live Cool Themes, Hide ...  ART_AND_DESIGN     4.7   \n",
       "3                              Sketch - Draw & Paint  ART_AND_DESIGN     4.5   \n",
       "4              Pixel Draw - Number Art Coloring Book  ART_AND_DESIGN     4.3   \n",
       "\n",
       "  Reviews  Size     Installs  Type Price Content Rating  \\\n",
       "0     159   19M      10,000+  Free     0       Everyone   \n",
       "1     967   14M     500,000+  Free     0       Everyone   \n",
       "2   87510  8.7M   5,000,000+  Free     0       Everyone   \n",
       "3  215644   25M  50,000,000+  Free     0           Teen   \n",
       "4     967  2.8M     100,000+  Free     0       Everyone   \n",
       "\n",
       "                      Genres      Last Updated         Current Ver  \\\n",
       "0               Art & Design   January 7, 2018               1.0.0   \n",
       "1  Art & Design;Pretend Play  January 15, 2018               2.0.0   \n",
       "2               Art & Design    August 1, 2018               1.2.4   \n",
       "3               Art & Design      June 8, 2018  Varies with device   \n",
       "4    Art & Design;Creativity     June 20, 2018                 1.1   \n",
       "\n",
       "    Android Ver  \n",
       "0  4.0.3 and up  \n",
       "1  4.0.3 and up  \n",
       "2  4.0.3 and up  \n",
       "3    4.2 and up  \n",
       "4    4.4 and up  "
      ]
     },
     "execution_count": 2,
     "metadata": {},
     "output_type": "execute_result"
    }
   ],
   "source": [
    "df = pd.read_csv('./googleplaystore.csv')\n",
    "df.head()"
   ]
  },
  {
   "cell_type": "code",
   "execution_count": 3,
   "metadata": {},
   "outputs": [
    {
     "name": "stdout",
     "output_type": "stream",
     "text": [
      "length of dataset after reducing ratings: 10841 ------ 9367\n",
      "length of dataset after reducing prices: 9367 ------ 9367\n",
      "length of dataset after reducing Category: 9367 ------ 9367\n",
      "length of dataset after reducing Genres: 9367 ------ 9367\n",
      "length of dataset after reducing Content Rating: 9367 ------ 9366\n",
      "length of dataset after reducing Size: 9366 ------ 9366\n",
      "length of dataset after reducing Type: 9366 ------ 9366\n"
     ]
    }
   ],
   "source": [
    "orig_len = len(df)\n",
    "df = df[df['Rating'].notna()]\n",
    "reduced_rating = len(df)\n",
    "print('length of dataset after reducing ratings:', orig_len, '------', reduced_rating)\n",
    "df = df[df['Price'].notna()]\n",
    "reduced_price = len(df)\n",
    "print('length of dataset after reducing prices:', reduced_rating, '------', reduced_price)\n",
    "df = df[df['Category'].notna()]\n",
    "Category = len(df)\n",
    "print('length of dataset after reducing Category:', reduced_price, '------', Category)\n",
    "df = df[df['Genres'].notna()]\n",
    "Genres = len(df)\n",
    "print('length of dataset after reducing Genres:', Category, '------', Genres)\n",
    "df = df[df['Content Rating'].notna()]\n",
    "Content_Rating = len(df)\n",
    "print('length of dataset after reducing Content Rating:', Genres, '------', Content_Rating)\n",
    "df = df[df['Size'].notna()]\n",
    "Size = len(df)\n",
    "print('length of dataset after reducing Size:', Content_Rating, '------', Size)\n",
    "df = df[df['Type'].notna()]\n",
    "Type = len(df)\n",
    "print('length of dataset after reducing Type:', Size, '------', Type)"
   ]
  },
  {
   "cell_type": "code",
   "execution_count": 4,
   "metadata": {},
   "outputs": [
    {
     "name": "stdout",
     "output_type": "stream",
     "text": [
      "App ------- <class 'str'> ------- Photo Editor & Candy Camera & Grid & ScrapBook\n",
      "Category ------- <class 'str'> ------- ART_AND_DESIGN\n",
      "Rating ------- <class 'numpy.float64'> ------- 4.1\n",
      "Reviews ------- <class 'str'> ------- 159\n",
      "Size ------- <class 'str'> ------- 19M\n",
      "Installs ------- <class 'str'> ------- 10,000+\n",
      "Type ------- <class 'str'> ------- Free\n",
      "Price ------- <class 'str'> ------- 0\n",
      "Content Rating ------- <class 'str'> ------- Everyone\n",
      "Genres ------- <class 'str'> ------- Art & Design\n",
      "Last Updated ------- <class 'str'> ------- January 7, 2018\n",
      "Current Ver ------- <class 'str'> ------- 1.0.0\n",
      "Android Ver ------- <class 'str'> ------- 4.0.3 and up\n"
     ]
    }
   ],
   "source": [
    "for column in df.columns:\n",
    "    print( column, '-------', type(df[column][0]), '-------', df[column][0])"
   ]
  },
  {
   "cell_type": "code",
   "execution_count": 5,
   "metadata": {},
   "outputs": [
    {
     "name": "stdout",
     "output_type": "stream",
     "text": [
      "App ----- 1 ------> [<class 'str'>]\n",
      "Category ----- 1 ------> [<class 'str'>]\n",
      "Rating ----- 1 ------> [<class 'float'>]\n",
      "Reviews ----- 1 ------> [<class 'str'>]\n",
      "Size ----- 1 ------> [<class 'str'>]\n",
      "Installs ----- 1 ------> [<class 'str'>]\n",
      "Type ----- 1 ------> [<class 'str'>]\n",
      "Price ----- 1 ------> [<class 'str'>]\n",
      "Content Rating ----- 1 ------> [<class 'str'>]\n",
      "Genres ----- 1 ------> [<class 'str'>]\n",
      "Last Updated ----- 1 ------> [<class 'str'>]\n",
      "Current Ver ----- 2 ------> [<class 'str'>, <class 'float'>]\n",
      "Android Ver ----- 2 ------> [<class 'str'>, <class 'float'>]\n"
     ]
    }
   ],
   "source": [
    "for col in df.columns:\n",
    "    a = df[col]\n",
    "    s = []\n",
    "    for i in a:\n",
    "        if type(i) not in s:\n",
    "            s.append(type(i))\n",
    "    print(col, '-----', len(s), '------>', s)"
   ]
  },
  {
   "cell_type": "code",
   "execution_count": 6,
   "metadata": {},
   "outputs": [],
   "source": [
    "df['Type'] = df['Type'].astype(str)\n",
    "df['Content Rating'] = df['Content Rating'].astype(str)\n",
    "df['Current Ver'] = df['Current Ver'].astype(str)\n",
    "df['Android Ver'] = df['Android Ver'].astype(str)"
   ]
  },
  {
   "cell_type": "code",
   "execution_count": 7,
   "metadata": {},
   "outputs": [
    {
     "name": "stdout",
     "output_type": "stream",
     "text": [
      "number of unique values in column App: 8196\n",
      "number of unique values in column Category: 33\n",
      "number of unique values in column Rating: 39\n",
      "number of unique values in column Reviews: 5992\n",
      "number of unique values in column Size: 414\n",
      "number of unique values in column Installs: 19\n",
      "number of unique values in column Type: 2\n",
      "number of unique values in column Price: 73\n",
      "number of unique values in column Content Rating: 6\n",
      "number of unique values in column Genres: 115\n",
      "number of unique values in column Last Updated: 1300\n",
      "number of unique values in column Current Ver: 2639\n",
      "number of unique values in column Android Ver: 32\n"
     ]
    }
   ],
   "source": [
    "for column in df.columns:\n",
    "    print (\"number of unique values in column {}:\".format(column), len(np.unique(np.array(df[column]))))"
   ]
  },
  {
   "cell_type": "code",
   "execution_count": 8,
   "metadata": {},
   "outputs": [
    {
     "name": "stdout",
     "output_type": "stream",
     "text": [
      "The length of this dataframe is: 9366\n",
      "The length of this reduced dataframe is: 8892\n"
     ]
    }
   ],
   "source": [
    "print('The length of this dataframe is:', len(df))\n",
    "df = pd.DataFrame.drop_duplicates(df)\n",
    "print('The length of this reduced dataframe is:', len(df))"
   ]
  },
  {
   "cell_type": "code",
   "execution_count": 9,
   "metadata": {},
   "outputs": [
    {
     "data": {
      "text/plain": [
       "array(['$0.99', '$1.00', '$1.20', '$1.29', '$1.49', '$1.50', '$1.59',\n",
       "       '$1.61', '$1.70', '$1.75', '$1.76', '$1.97', '$1.99', '$10.00',\n",
       "       '$10.99', '$11.99', '$12.99', '$13.99', '$14.00', '$14.99',\n",
       "       '$15.46', '$15.99', '$16.99', '$17.99', '$18.99', '$19.40',\n",
       "       '$19.99', '$2.00', '$2.49', '$2.50', '$2.56', '$2.59', '$2.90',\n",
       "       '$2.95', '$2.99', '$24.99', '$29.99', '$299.99', '$3.02', '$3.04',\n",
       "       '$3.08', '$3.28', '$3.49', '$3.88', '$3.90', '$3.95', '$3.99',\n",
       "       '$33.99', '$37.99', '$379.99', '$389.99', '$39.99', '$399.99',\n",
       "       '$4.29', '$4.49', '$4.59', '$4.60', '$4.77', '$4.84', '$4.99',\n",
       "       '$400.00', '$5.49', '$5.99', '$6.49', '$6.99', '$7.49', '$7.99',\n",
       "       '$79.99', '$8.49', '$8.99', '$9.00', '$9.99', '0'], dtype=object)"
      ]
     },
     "execution_count": 9,
     "metadata": {},
     "output_type": "execute_result"
    }
   ],
   "source": [
    "np.unique(df['Price'])"
   ]
  },
  {
   "cell_type": "code",
   "execution_count": 10,
   "metadata": {},
   "outputs": [],
   "source": [
    "clean_df = pd.DataFrame()\n",
    "\n",
    "clean_df['App'] = df['App']\n",
    "clean_df['Category'] = df['Category']\n",
    "clean_df['Size'] = df['Size']\n",
    "clean_df['Type'] = df['Type'] # need to delete the NAN and Free the 0 parts\n",
    "clean_df['Price'] = df['Price']\n",
    "clean_df['Content Rating'] = df['Content Rating']\n",
    "clean_df['Genres'] = df['Genres']\n",
    "clean_df['Rating'] = df['Rating']"
   ]
  },
  {
   "cell_type": "code",
   "execution_count": 11,
   "metadata": {},
   "outputs": [
    {
     "data": {
      "text/html": [
       "<div>\n",
       "<style scoped>\n",
       "    .dataframe tbody tr th:only-of-type {\n",
       "        vertical-align: middle;\n",
       "    }\n",
       "\n",
       "    .dataframe tbody tr th {\n",
       "        vertical-align: top;\n",
       "    }\n",
       "\n",
       "    .dataframe thead th {\n",
       "        text-align: right;\n",
       "    }\n",
       "</style>\n",
       "<table border=\"1\" class=\"dataframe\">\n",
       "  <thead>\n",
       "    <tr style=\"text-align: right;\">\n",
       "      <th></th>\n",
       "      <th>App</th>\n",
       "      <th>Category</th>\n",
       "      <th>Size</th>\n",
       "      <th>Type</th>\n",
       "      <th>Price</th>\n",
       "      <th>Content Rating</th>\n",
       "      <th>Genres</th>\n",
       "      <th>Rating</th>\n",
       "    </tr>\n",
       "  </thead>\n",
       "  <tbody>\n",
       "    <tr>\n",
       "      <th>0</th>\n",
       "      <td>Photo Editor &amp; Candy Camera &amp; Grid &amp; ScrapBook</td>\n",
       "      <td>ART_AND_DESIGN</td>\n",
       "      <td>19M</td>\n",
       "      <td>Free</td>\n",
       "      <td>0</td>\n",
       "      <td>Everyone</td>\n",
       "      <td>Art &amp; Design</td>\n",
       "      <td>4.1</td>\n",
       "    </tr>\n",
       "    <tr>\n",
       "      <th>1</th>\n",
       "      <td>Coloring book moana</td>\n",
       "      <td>ART_AND_DESIGN</td>\n",
       "      <td>14M</td>\n",
       "      <td>Free</td>\n",
       "      <td>0</td>\n",
       "      <td>Everyone</td>\n",
       "      <td>Art &amp; Design;Pretend Play</td>\n",
       "      <td>3.9</td>\n",
       "    </tr>\n",
       "    <tr>\n",
       "      <th>2</th>\n",
       "      <td>U Launcher Lite – FREE Live Cool Themes, Hide ...</td>\n",
       "      <td>ART_AND_DESIGN</td>\n",
       "      <td>8.7M</td>\n",
       "      <td>Free</td>\n",
       "      <td>0</td>\n",
       "      <td>Everyone</td>\n",
       "      <td>Art &amp; Design</td>\n",
       "      <td>4.7</td>\n",
       "    </tr>\n",
       "    <tr>\n",
       "      <th>3</th>\n",
       "      <td>Sketch - Draw &amp; Paint</td>\n",
       "      <td>ART_AND_DESIGN</td>\n",
       "      <td>25M</td>\n",
       "      <td>Free</td>\n",
       "      <td>0</td>\n",
       "      <td>Teen</td>\n",
       "      <td>Art &amp; Design</td>\n",
       "      <td>4.5</td>\n",
       "    </tr>\n",
       "    <tr>\n",
       "      <th>4</th>\n",
       "      <td>Pixel Draw - Number Art Coloring Book</td>\n",
       "      <td>ART_AND_DESIGN</td>\n",
       "      <td>2.8M</td>\n",
       "      <td>Free</td>\n",
       "      <td>0</td>\n",
       "      <td>Everyone</td>\n",
       "      <td>Art &amp; Design;Creativity</td>\n",
       "      <td>4.3</td>\n",
       "    </tr>\n",
       "  </tbody>\n",
       "</table>\n",
       "</div>"
      ],
      "text/plain": [
       "                                                 App        Category  Size  \\\n",
       "0     Photo Editor & Candy Camera & Grid & ScrapBook  ART_AND_DESIGN   19M   \n",
       "1                                Coloring book moana  ART_AND_DESIGN   14M   \n",
       "2  U Launcher Lite – FREE Live Cool Themes, Hide ...  ART_AND_DESIGN  8.7M   \n",
       "3                              Sketch - Draw & Paint  ART_AND_DESIGN   25M   \n",
       "4              Pixel Draw - Number Art Coloring Book  ART_AND_DESIGN  2.8M   \n",
       "\n",
       "   Type Price Content Rating                     Genres  Rating  \n",
       "0  Free     0       Everyone               Art & Design     4.1  \n",
       "1  Free     0       Everyone  Art & Design;Pretend Play     3.9  \n",
       "2  Free     0       Everyone               Art & Design     4.7  \n",
       "3  Free     0           Teen               Art & Design     4.5  \n",
       "4  Free     0       Everyone    Art & Design;Creativity     4.3  "
      ]
     },
     "execution_count": 11,
     "metadata": {},
     "output_type": "execute_result"
    }
   ],
   "source": [
    "clean_df.head()"
   ]
  },
  {
   "cell_type": "code",
   "execution_count": 12,
   "metadata": {},
   "outputs": [
    {
     "data": {
      "image/png": "[encoded data removed]",
      "text/plain": [
       "<Figure size 432x288 with 1 Axes>"
      ]
     },
     "metadata": {
      "needs_background": "light"
     },
     "output_type": "display_data"
    },
    {
     "name": "stdout",
     "output_type": "stream",
     "text": [
      "datatype:  float64\n"
     ]
    }
   ],
   "source": [
    "clean_df.hist(column='Rating')\n",
    "plt.show()\n",
    "print('datatype: ',clean_df['Rating'].dtype)"
   ]
  },
  {
   "cell_type": "code",
   "execution_count": 21,
   "metadata": {},
   "outputs": [],
   "source": [
    "def digitize_price(df, column):\n",
    "    name = column.name\n",
    "#     column.drop(7389)\n",
    "    for ind, val in enumerate(column):\n",
    "        if val[0] == \"$\":\n",
    "            column[ind] = float(val[1:])\n",
    "        else:\n",
    "            column[ind] = float(val)\n",
    "    df[name] = column        \n",
    "    return df\n",
    "    \n",
    "\n",
    "def categorize(column):\n",
    "    dict = {}\n",
    "    key = 1\n",
    "    for i in np.unique(column):\n",
    "        if i not in dict:\n",
    "            dict[i] = key\n",
    "            key+=1\n",
    "    return dict\n"
   ]
  },
  {
   "cell_type": "code",
   "execution_count": 22,
   "metadata": {},
   "outputs": [
    {
     "name": "stderr",
     "output_type": "stream",
     "text": [
      "/opt/conda/lib/python3.7/site-packages/ipykernel_launcher.py:8: SettingWithCopyWarning: \n",
      "A value is trying to be set on a copy of a slice from a DataFrame\n",
      "\n",
      "See the caveats in the documentation: https://pandas.pydata.org/pandas-docs/stable/user_guide/indexing.html#returning-a-view-versus-a-copy\n",
      "  \n"
     ]
    }
   ],
   "source": [
    "category_dict = categorize(clean_df['Category'])\n",
    "clean_df = clean_df.replace({\"Category\": category_dict})\n",
    "\n",
    "Size_dict = categorize(clean_df['Size'])\n",
    "clean_df = clean_df.replace({\"Size\": Size_dict})\n",
    "\n",
    "Type_dict = categorize(clean_df['Type'])\n",
    "clean_df = clean_df.replace({\"Type\": Type_dict})\n",
    "\n",
    "price_col = digitize_price(clean_df,clean_df['Price'])\n",
    "clean_df['Price'] = price_col\n",
    "\n",
    "Content_Rating_dict = categorize(clean_df['Content Rating'])\n",
    "clean_df = clean_df.replace({\"Content Rating\": Content_Rating_dict})\n",
    "\n",
    "Genres_dict = categorize(clean_df['Genres'])\n",
    "clean_df = clean_df.replace({\"Genres\": Genres_dict})"
   ]
  },
  {
   "cell_type": "code",
   "execution_count": null,
   "metadata": {},
   "outputs": [],
   "source": [
    "for col in clean_df.columns:\n",
    "    print('datatype of {}: '.format(col), clean_df[col].dtype)"
   ]
  },
  {
   "cell_type": "code",
   "execution_count": 23,
   "metadata": {},
   "outputs": [
    {
     "name": "stdout",
     "output_type": "stream",
     "text": [
      "0 ---------- Photo Editor & Candy Camera & Grid & ScrapBook\n",
      "[<class 'str'>]\n"
     ]
    }
   ],
   "source": [
    "d = []\n",
    "for ind, i in enumerate(clean_df['Price']):\n",
    "    if type(i) not in d:\n",
    "        d.append(type(i))\n",
    "        if type(i) == str:\n",
    "            print(ind,'----------',i)\n",
    "print(d)"
   ]
  },
  {
   "cell_type": "code",
   "execution_count": null,
   "metadata": {},
   "outputs": [],
   "source": [
    "clean_df['Price'][7389]"
   ]
  },
  {
   "cell_type": "code",
   "execution_count": null,
   "metadata": {},
   "outputs": [],
   "source": []
  },
  {
   "cell_type": "code",
   "execution_count": null,
   "metadata": {},
   "outputs": [],
   "source": []
  }
 ],
 "metadata": {
  "kernelspec": {
   "display_name": "Python 3",
   "language": "python",
   "name": "python3"
  },
  "language_info": {
   "codemirror_mode": {
    "name": "ipython",
    "version": 3
   },
   "file_extension": ".py",
   "mimetype": "text/x-python",
   "name": "python",
   "nbconvert_exporter": "python",
   "pygments_lexer": "ipython3",
   "version": "3.7.6"
  }
 },
 "nbformat": 4,
 "nbformat_minor": 4
}
